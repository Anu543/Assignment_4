{
 "cells": [
  {
   "cell_type": "markdown",
   "metadata": {},
   "source": [
    "### 1.Write a Python Program(with class concepts) to find the area of the triangle using the below formula.\n",
    "- area = (s*(s-a)*(s-b)*(s-c)) ** 0.5\n",
    "- Function to take the length of the sides of triangle from user should be defined in the parent\n",
    "class and function to calculate the area should be defined in subclass."
   ]
  },
  {
   "cell_type": "code",
   "execution_count": 10,
   "metadata": {},
   "outputs": [
    {
     "name": "stdout",
     "output_type": "stream",
     "text": [
      "6.0\n"
     ]
    }
   ],
   "source": [
    "class Polygon:\n",
    "    def __init__(self, n):\n",
    "        self.number_of_sides = n\n",
    "\n",
    "    def print_num_sides(self):\n",
    "        '''a quick, informational print statement'''\n",
    "        print('There are ' + str(self.number_of_sides) + ' sides.')\n",
    "class Triangle(Polygon):\n",
    "\n",
    "        def __init__(self, lengths_of_sides):\n",
    "            Polygon.__init__(self, 3)\n",
    "            self.lengths_of_sides = lengths_of_sides  # list of three numbers\n",
    "\n",
    "        def get_area(self):\n",
    "        \n",
    "            a, b, c = self.lengths_of_sides\n",
    "\n",
    "        # calculate the semi-perimeter\n",
    "            s = (a + b + c) / 2\n",
    "            return (s*(s-a)*(s-b)*(s-c)) ** 0.5\n",
    "\n",
    "tri = Triangle([3, 4, 5])\n",
    "print(tri.get_area())"
   ]
  },
  {
   "cell_type": "markdown",
   "metadata": {},
   "source": [
    "### 1.2.Write a function filter_long_words() that takes a list of words and an integer n and returns the list of words that are longer than n."
   ]
  },
  {
   "cell_type": "code",
   "execution_count": 16,
   "metadata": {},
   "outputs": [
    {
     "name": "stdout",
     "output_type": "stream",
     "text": [
      "[1, 2, 3, 4]\n"
     ]
    }
   ],
   "source": [
    "def filter_long_words(lst_words, n):\n",
    "    if len(lst_words)>n:\n",
    "        print(lst_words)\n",
    "filter_long_words([1,2,3,4] , 3)\n",
    "    "
   ]
  },
  {
   "cell_type": "code",
   "execution_count": 21,
   "metadata": {},
   "outputs": [
    {
     "name": "stdout",
     "output_type": "stream",
     "text": [
      "['mahato', 'jamshedpur', 'jharkhand', 'tatanagar']\n"
     ]
    }
   ],
   "source": [
    "words = []\n",
    "def filter_long_words(lst_words, n):\n",
    "    for i in lst_words:\n",
    "        if len(i)>n:\n",
    "            words.append(i)\n",
    "    print(words)\n",
    "filter_long_words([\"anita\" , \"mahato\" , \"jamshedpur\" , \"jharkhand\" , \"tatanagar\"], 5)"
   ]
  },
  {
   "cell_type": "markdown",
   "metadata": {},
   "source": [
    "### 2.1Write a Python program using function concept that maps list of words into a list of integers representing the lengths of the corresponding words. Hint: If a list [ ab,cde,erty] is passed on to the python function output should come as [2,3,4] Here 2,3 and 4 are the lengths of the words in the list."
   ]
  },
  {
   "cell_type": "code",
   "execution_count": 18,
   "metadata": {},
   "outputs": [
    {
     "name": "stdout",
     "output_type": "stream",
     "text": [
      "['Happy', 'Durga', 'Pujo', '2020']\n",
      "--------------------------\n",
      "[5, 5, 4, 4]\n"
     ]
    }
   ],
   "source": [
    "integer_list = []\n",
    "def list_mapping(l):\n",
    "    for i in l:\n",
    "        a = len(i)\n",
    "        integer_list.append(a)\n",
    "    print(l)\n",
    "    print(\"--------------------------\")\n",
    "    print(integer_list)\n",
    "    \n",
    "# calling a function\n",
    "list_mapping([\"Happy\" , \"Durga\" , \"Pujo\", \"2020\"] )\n"
   ]
  },
  {
   "cell_type": "markdown",
   "metadata": {},
   "source": [
    "### 2.2Write a Python function which takes a character (i.e. a string of length 1) and returns True if it is a vowel, False otherwise."
   ]
  },
  {
   "cell_type": "code",
   "execution_count": 24,
   "metadata": {},
   "outputs": [],
   "source": [
    "voewls  = ['a','e', 'i','o','u']\n",
    "def to_check(ch):\n",
    "    if ch in voewls:\n",
    "        return True\n",
    "    else:\n",
    "        return False\n",
    "\n",
    "    \n",
    "    "
   ]
  },
  {
   "cell_type": "code",
   "execution_count": 25,
   "metadata": {},
   "outputs": [
    {
     "data": {
      "text/plain": [
       "True"
      ]
     },
     "execution_count": 25,
     "metadata": {},
     "output_type": "execute_result"
    }
   ],
   "source": [
    "to_check('a')"
   ]
  },
  {
   "cell_type": "code",
   "execution_count": 26,
   "metadata": {},
   "outputs": [
    {
     "data": {
      "text/plain": [
       "False"
      ]
     },
     "execution_count": 26,
     "metadata": {},
     "output_type": "execute_result"
    }
   ],
   "source": [
    "to_check('b')"
   ]
  },
  {
   "cell_type": "code",
   "execution_count": null,
   "metadata": {},
   "outputs": [],
   "source": []
  }
 ],
 "metadata": {
  "kernelspec": {
   "display_name": "Python 3",
   "language": "python",
   "name": "python3"
  },
  "language_info": {
   "codemirror_mode": {
    "name": "ipython",
    "version": 3
   },
   "file_extension": ".py",
   "mimetype": "text/x-python",
   "name": "python",
   "nbconvert_exporter": "python",
   "pygments_lexer": "ipython3",
   "version": "3.7.3"
  }
 },
 "nbformat": 4,
 "nbformat_minor": 2
}
